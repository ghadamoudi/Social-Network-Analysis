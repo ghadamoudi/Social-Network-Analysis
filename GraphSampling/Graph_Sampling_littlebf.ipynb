{
 "cells": [
  {
   "cell_type": "markdown",
   "metadata": {
    "id": "CxMq4z0MbgBp"
   },
   "source": [
    "# Graph Sampling of Co-Authorship Social Nework of Arxiv"
   ]
  },
  {
   "cell_type": "code",
   "execution_count": 2,
   "metadata": {
    "colab": {
     "base_uri": "https://localhost:8080/"
    },
    "id": "yFz6wqnuRuPK",
    "outputId": "9394ee3e-1ca6-481a-c547-27d03c476ada"
   },
   "outputs": [
    {
     "name": "stdout",
     "output_type": "stream",
     "text": [
      "Collecting littleballoffur\n",
      "  Downloading https://files.pythonhosted.org/packages/ef/ba/1a79984c61c79b20bf6ee8d08a746e46a0b60104aee0dc6074eb1b015435/littleballoffur-2.1.7.tar.gz\n",
      "Requirement already satisfied: cmake in /usr/local/lib/python3.6/dist-packages (from littleballoffur) (3.12.0)\n",
      "Requirement already satisfied: Cython in /usr/local/lib/python3.6/dist-packages (from littleballoffur) (0.29.21)\n",
      "Requirement already satisfied: networkx in /usr/local/lib/python3.6/dist-packages (from littleballoffur) (2.5)\n",
      "Requirement already satisfied: tqdm in /usr/local/lib/python3.6/dist-packages (from littleballoffur) (4.41.1)\n",
      "Requirement already satisfied: python-louvain in /usr/local/lib/python3.6/dist-packages (from littleballoffur) (0.15)\n",
      "Requirement already satisfied: pandas in /usr/local/lib/python3.6/dist-packages (from littleballoffur) (1.1.5)\n",
      "Requirement already satisfied: numpy in /usr/local/lib/python3.6/dist-packages (from littleballoffur) (1.19.5)\n",
      "Requirement already satisfied: six in /usr/local/lib/python3.6/dist-packages (from littleballoffur) (1.15.0)\n",
      "Requirement already satisfied: scipy in /usr/local/lib/python3.6/dist-packages (from littleballoffur) (1.4.1)\n",
      "Collecting networkit\n",
      "\u001b[?25l  Downloading https://files.pythonhosted.org/packages/63/9c/597bf1194e823733561422cb8b34ab1ba096678ee592e5f046bacd9be7f6/networkit-8.0.tar.gz (3.0MB)\n",
      "\u001b[K     |████████████████████████████████| 3.0MB 10.2MB/s \n",
      "\u001b[?25hRequirement already satisfied: decorator>=4.3.0 in /usr/local/lib/python3.6/dist-packages (from networkx->littleballoffur) (4.4.2)\n",
      "Requirement already satisfied: python-dateutil>=2.7.3 in /usr/local/lib/python3.6/dist-packages (from pandas->littleballoffur) (2.8.1)\n",
      "Requirement already satisfied: pytz>=2017.2 in /usr/local/lib/python3.6/dist-packages (from pandas->littleballoffur) (2018.9)\n",
      "Building wheels for collected packages: littleballoffur, networkit\n",
      "  Building wheel for littleballoffur (setup.py) ... \u001b[?25l\u001b[?25hdone\n",
      "  Created wheel for littleballoffur: filename=littleballoffur-2.1.7-cp36-none-any.whl size=40180 sha256=8a2335267e8381fc93dfa74eb9d3b91a8f62a7e340bcae83be622efededabddc\n",
      "  Stored in directory: /root/.cache/pip/wheels/78/2c/9a/1ef0112040d04026b180ab61f8a63d3d960fc1b16a471a60fe\n",
      "  Building wheel for networkit (setup.py) ... \u001b[?25l\u001b[?25hdone\n",
      "  Created wheel for networkit: filename=networkit-8.0-cp36-cp36m-linux_x86_64.whl size=8028436 sha256=35c769a7c32bfa100da18d830ce63dfa5870fb653856bb0da3c6ca174a2b6369\n",
      "  Stored in directory: /root/.cache/pip/wheels/69/43/a6/9f253843afcae8370e0f50964224c2dd84142d0a57be0440dc\n",
      "Successfully built littleballoffur networkit\n",
      "Installing collected packages: networkit, littleballoffur\n",
      "Successfully installed littleballoffur-2.1.7 networkit-8.0\n"
     ]
    }
   ],
   "source": [
    "pip install littleballoffur"
   ]
  },
  {
   "cell_type": "markdown",
   "metadata": {
    "id": "irGMl4Q_R9Z-"
   },
   "source": [
    "Import the Dataset\n"
   ]
  },
  {
   "cell_type": "code",
   "execution_count": 4,
   "metadata": {
    "colab": {
     "base_uri": "https://localhost:8080/",
     "height": 415
    },
    "id": "oGBZE_lATo3_",
    "outputId": "83f18aef-dbbd-4c5c-f03e-e7242ab0d4c0"
   },
   "outputs": [
    {
     "data": {
      "text/html": [
       "<div>\n",
       "<style scoped>\n",
       "    .dataframe tbody tr th:only-of-type {\n",
       "        vertical-align: middle;\n",
       "    }\n",
       "\n",
       "    .dataframe tbody tr th {\n",
       "        vertical-align: top;\n",
       "    }\n",
       "\n",
       "    .dataframe thead th {\n",
       "        text-align: right;\n",
       "    }\n",
       "</style>\n",
       "<table border=\"1\" class=\"dataframe\">\n",
       "  <thead>\n",
       "    <tr style=\"text-align: right;\">\n",
       "      <th></th>\n",
       "      <th>From</th>\n",
       "      <th>To</th>\n",
       "    </tr>\n",
       "  </thead>\n",
       "  <tbody>\n",
       "    <tr>\n",
       "      <th>0</th>\n",
       "      <td>3466</td>\n",
       "      <td>937</td>\n",
       "    </tr>\n",
       "    <tr>\n",
       "      <th>1</th>\n",
       "      <td>3466</td>\n",
       "      <td>5233</td>\n",
       "    </tr>\n",
       "    <tr>\n",
       "      <th>2</th>\n",
       "      <td>3466</td>\n",
       "      <td>8579</td>\n",
       "    </tr>\n",
       "    <tr>\n",
       "      <th>3</th>\n",
       "      <td>3466</td>\n",
       "      <td>10310</td>\n",
       "    </tr>\n",
       "    <tr>\n",
       "      <th>4</th>\n",
       "      <td>3466</td>\n",
       "      <td>15931</td>\n",
       "    </tr>\n",
       "    <tr>\n",
       "      <th>...</th>\n",
       "      <td>...</td>\n",
       "      <td>...</td>\n",
       "    </tr>\n",
       "    <tr>\n",
       "      <th>28975</th>\n",
       "      <td>10154</td>\n",
       "      <td>9224</td>\n",
       "    </tr>\n",
       "    <tr>\n",
       "      <th>28976</th>\n",
       "      <td>10154</td>\n",
       "      <td>16830</td>\n",
       "    </tr>\n",
       "    <tr>\n",
       "      <th>28977</th>\n",
       "      <td>11113</td>\n",
       "      <td>21723</td>\n",
       "    </tr>\n",
       "    <tr>\n",
       "      <th>28978</th>\n",
       "      <td>11113</td>\n",
       "      <td>23836</td>\n",
       "    </tr>\n",
       "    <tr>\n",
       "      <th>28979</th>\n",
       "      <td>11113</td>\n",
       "      <td>25050</td>\n",
       "    </tr>\n",
       "  </tbody>\n",
       "</table>\n",
       "<p>28980 rows × 2 columns</p>\n",
       "</div>"
      ],
      "text/plain": [
       "        From     To\n",
       "0       3466    937\n",
       "1       3466   5233\n",
       "2       3466   8579\n",
       "3       3466  10310\n",
       "4       3466  15931\n",
       "...      ...    ...\n",
       "28975  10154   9224\n",
       "28976  10154  16830\n",
       "28977  11113  21723\n",
       "28978  11113  23836\n",
       "28979  11113  25050\n",
       "\n",
       "[28980 rows x 2 columns]"
      ]
     },
     "execution_count": 4,
     "metadata": {
      "tags": []
     },
     "output_type": "execute_result"
    }
   ],
   "source": [
    "import pandas as pd\n",
    "import io\n",
    "\n",
    "df = pd.read_csv('Data.csv')\n",
    "df"
   ]
  },
  {
   "cell_type": "markdown",
   "metadata": {
    "id": "Jnlzi6E2VR6D"
   },
   "source": [
    "Convert the Data into edges list and create the graph\n"
   ]
  },
  {
   "cell_type": "code",
   "execution_count": 5,
   "metadata": {
    "id": "M7psUsDNVQaL"
   },
   "outputs": [],
   "source": [
    "# Build your graph\n",
    "G=nx.from_pandas_edgelist(df, 'From', 'To')"
   ]
  },
  {
   "cell_type": "markdown",
   "metadata": {
    "id": "Q7TtUy-tVojZ"
   },
   "source": [
    "Generate a subgraph of the connected component"
   ]
  },
  {
   "cell_type": "code",
   "execution_count": 8,
   "metadata": {
    "id": "ru0ifGGMVusT"
   },
   "outputs": [],
   "source": [
    "ListGraph = (G.subgraph(c) for c in nx.connected_components(G))\n",
    "A = list(ListGraph)[0]"
   ]
  },
  {
   "cell_type": "markdown",
   "metadata": {
    "id": "_GqWIE04Wpr8"
   },
   "source": [
    "Re index the node labels"
   ]
  },
  {
   "cell_type": "code",
   "execution_count": 11,
   "metadata": {
    "id": "byF61KXiWUFH"
   },
   "outputs": [],
   "source": [
    "\n",
    "\n",
    "reindexed_graph = nx.relabel.convert_node_labels_to_integers(A, first_label=0, ordering='default') "
   ]
  },
  {
   "cell_type": "markdown",
   "metadata": {
    "id": "5k6sFQolWsdQ"
   },
   "source": [
    "Generate a Sample from the Graph"
   ]
  },
  {
   "cell_type": "code",
   "execution_count": 13,
   "metadata": {
    "id": "hKCSe1nXSDXZ"
   },
   "outputs": [],
   "source": [
    "import networkx as nx\n",
    "from littleballoffur import DiffusionSampler\n",
    "\n",
    "\n",
    "\n",
    "sampler = DiffusionSampler()\n",
    "\n",
    "new_graph = sampler.sample(reindexed_graph)"
   ]
  },
  {
   "cell_type": "markdown",
   "metadata": {
    "id": "rTXZs92uW0yS"
   },
   "source": [
    "Draw the generated sample"
   ]
  },
  {
   "cell_type": "code",
   "execution_count": 15,
   "metadata": {
    "colab": {
     "base_uri": "https://localhost:8080/",
     "height": 319
    },
    "id": "43KzDDAsWmSj",
    "outputId": "52fbd11f-653b-43d2-b5ba-d03553d9ab12"
   },
   "outputs": [
    {
     "data": {
      "image/png": "[encoded data removed]",
      "text/plain": [
       "<Figure size 432x288 with 1 Axes>"
      ]
     },
     "metadata": {
      "tags": []
     },
     "output_type": "display_data"
    }
   ],
   "source": [
    "# Plot it\n",
    "nx.draw(new_graph, with_labels=False)"
   ]
  },
  {
   "cell_type": "markdown",
   "metadata": {
    "id": "4lUS0x54XnGy"
   },
   "source": [
    "Number of Nodes and edges in the sample "
   ]
  },
  {
   "cell_type": "code",
   "execution_count": 16,
   "metadata": {
    "colab": {
     "base_uri": "https://localhost:8080/"
    },
    "id": "3m9zOhpZXzZb",
    "outputId": "5ba16aa4-a0a2-4e47-8625-478d9e4675bd"
   },
   "outputs": [
    {
     "data": {
      "text/plain": [
       "200"
      ]
     },
     "execution_count": 16,
     "metadata": {
      "tags": []
     },
     "output_type": "execute_result"
    }
   ],
   "source": [
    "new_graph.number_of_edges()"
   ]
  },
  {
   "cell_type": "code",
   "execution_count": 17,
   "metadata": {
    "colab": {
     "base_uri": "https://localhost:8080/"
    },
    "id": "BmskSh9nX3cn",
    "outputId": "98e5cdd6-38ff-4487-e3c8-2176173c53d4"
   },
   "outputs": [
    {
     "data": {
      "text/plain": [
       "100"
      ]
     },
     "execution_count": 17,
     "metadata": {
      "tags": []
     },
     "output_type": "execute_result"
    }
   ],
   "source": [
    "new_graph.number_of_nodes()"
   ]
  }
 ],
 "metadata": {
  "colab": {
   "name": "Untitled0.ipynb",
   "provenance": []
  },
  "kernelspec": {
   "display_name": "Python 3",
   "language": "python",
   "name": "python3"
  },
  "language_info": {
   "codemirror_mode": {
    "name": "ipython",
    "version": 3
   },
   "file_extension": ".py",
   "mimetype": "text/x-python",
   "name": "python",
   "nbconvert_exporter": "python",
   "pygments_lexer": "ipython3",
   "version": "3.7.4"
  }
 },
 "nbformat": 4,
 "nbformat_minor": 1
}
