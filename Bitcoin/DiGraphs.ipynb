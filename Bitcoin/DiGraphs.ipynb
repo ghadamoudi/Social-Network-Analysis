{
 "cells": [
  {
   "cell_type": "markdown",
   "metadata": {},
   "source": [
    "# Directed Graphs, Degree Distribution and Sampling\n",
    "### Contents:\n",
    "1. Creating simple graphs\n",
    "2. Importing a dataset with directed and weighted edges \n",
    "3. Connectivity in Directed Graphs\n",
    "4. Degree Distribution\n",
    "5. Converting the graph to an undirected \n",
    "6. Sampling Revisited"
   ]
  },
  {
   "cell_type": "code",
   "execution_count": null,
   "metadata": {},
   "outputs": [],
   "source": [
    "import networkx as nx\n",
    "import pandas as pd\n",
    "import matplotlib.pyplot as plt"
   ]
  },
  {
   "cell_type": "markdown",
   "metadata": {},
   "source": [
    "### Creating a simple undirected graph"
   ]
  },
  {
   "cell_type": "code",
   "execution_count": null,
   "metadata": {},
   "outputs": [],
   "source": [
    "edges = [(1, 2), (1, 6), (2, 3), (2, 4), (2, 6), \n",
    "         (3, 4), (3, 5), (4, 8), (4, 9), (6, 7)]"
   ]
  },
  {
   "cell_type": "code",
   "execution_count": null,
   "metadata": {},
   "outputs": [],
   "source": [
    "G_basic = nx.Graph()\n",
    "G_basic.add_edges_from(edges)\n",
    "nx.draw_networkx(G_basic, with_label = True)"
   ]
  },
  {
   "cell_type": "markdown",
   "metadata": {},
   "source": [
    "### Creating a simple undirected weighted graph"
   ]
  },
  {
   "cell_type": "code",
   "execution_count": null,
   "metadata": {},
   "outputs": [],
   "source": [
    "G_weighted = nx.Graph()\n",
    "  \n",
    "edges = [(1, 2, 19), (1, 6, 15), (2, 3, 6), (2, 4, 10), \n",
    "         (2, 6, 22), (3, 4, 51), (3, 5, 14), (4, 8, 20),\n",
    "         (4, 9, 42), (6, 7, 30)]\n",
    "  \n",
    "G_weighted.add_weighted_edges_from(edges)\n",
    "nx.draw_networkx(G_weighted, with_labels = True)"
   ]
  },
  {
   "cell_type": "code",
   "execution_count": null,
   "metadata": {},
   "outputs": [],
   "source": [
    "print(list(G_weighted.edges(data = True)))"
   ]
  },
  {
   "cell_type": "markdown",
   "metadata": {},
   "source": [
    "### Creating a simple directed graph"
   ]
  },
  {
   "cell_type": "code",
   "execution_count": null,
   "metadata": {},
   "outputs": [],
   "source": [
    "G_directed = nx.DiGraph()\n",
    "G_directed.add_edges_from([(1, 1), (1, 7), (2, 1), (2, 2), (2, 3), \n",
    "                  (2, 6), (3, 5), (4, 3), (5, 4), (5, 8),\n",
    "                  (5, 9), (6, 4), (7, 2), (7, 6), (8, 7)])\n",
    "  \n",
    "plt.figure(figsize =(9, 9))\n",
    "nx.draw_networkx(G_directed, with_label = True, node_color ='green')"
   ]
  },
  {
   "cell_type": "markdown",
   "metadata": {},
   "source": [
    "### Importing a dataset with directed and weighted edges \n",
    "#### About the dataset - Example of a trust distrust network\n",
    "- Who-trusts-whom network of people who trade using Bitcoin on the platform: Bitcoin Alpha. \n",
    "- Bitcoin users are anonymous, there is a need to maintain a record of users' reputation to prevent transactions with fraudulent and risky users. \n",
    "- Members of Bitcoin Alpha rate other members in a scale of -10 (total distrust) to +10 (total trust) in steps of 1. <br> \n",
    "\n",
    "For more datasets visit https://snap.stanford.edu/data/index.html"
   ]
  },
  {
   "cell_type": "code",
   "execution_count": null,
   "metadata": {},
   "outputs": [],
   "source": [
    "fname = 'soc-sign-bitcoinalpha.csv'\n",
    "cols = ['source', 'target', 'weight', 'time']\n",
    "df = pd.read_csv(fname, names=cols, header=None)\n",
    "df['time'] = pd.to_datetime(df.time * 1e9)\n",
    "df.shape"
   ]
  },
  {
   "cell_type": "code",
   "execution_count": null,
   "metadata": {},
   "outputs": [],
   "source": [
    "df.head(10)"
   ]
  },
  {
   "cell_type": "code",
   "execution_count": null,
   "metadata": {},
   "outputs": [],
   "source": [
    "G = nx.from_pandas_edgelist(df, 'source', 'target', edge_attr = 'weight' , create_using=nx.DiGraph())\n",
    "n,e = G.order(), G.size()\n",
    "ave_degree = float(e)/n\n",
    "trans=nx.transitivity(G)"
   ]
  },
  {
   "cell_type": "code",
   "execution_count": null,
   "metadata": {},
   "outputs": [],
   "source": [
    "print (\"Nodes: \", n)\n",
    "print (\"Edges: \", e)\n",
    "print (\"Average degree: \", ave_degree)\n",
    "print (\"Trasitivity: \", trans)"
   ]
  },
  {
   "cell_type": "code",
   "execution_count": null,
   "metadata": {},
   "outputs": [],
   "source": [
    "G.number_of_nodes() # also g.order()"
   ]
  },
  {
   "cell_type": "code",
   "execution_count": null,
   "metadata": {},
   "outputs": [],
   "source": [
    "G.number_of_edges() # also g.size()"
   ]
  },
  {
   "cell_type": "markdown",
   "metadata": {},
   "source": [
    "### Before we move further, we will review the dictionary concept in Python."
   ]
  },
  {
   "cell_type": "code",
   "execution_count": null,
   "metadata": {},
   "outputs": [],
   "source": [
    "# Python dictionaries:\n",
    "\n",
    "# Keys and values can be of any data type\n",
    "fruit_dict = {\"apple\":1, \"orange\":[0.23,0.11], 42:True}\n",
    "\n",
    "# Can retrieve the keys and values as Python lists (vector)\n",
    "fruit_dict.keys() "
   ]
  },
  {
   "cell_type": "code",
   "execution_count": null,
   "metadata": {},
   "outputs": [],
   "source": [
    "# Or create a (key,value) tuple\n",
    "fruit_dict.items() "
   ]
  },
  {
   "cell_type": "markdown",
   "metadata": {},
   "source": [
    "Any NetworkX graph behaves like a Python dictionary with nodes as primary keys."
   ]
  },
  {
   "cell_type": "markdown",
   "metadata": {},
   "source": [
    "### Connectivity in Directed Graphs"
   ]
  },
  {
   "cell_type": "code",
   "execution_count": null,
   "metadata": {},
   "outputs": [],
   "source": [
    "nx.is_strongly_connected(G)"
   ]
  },
  {
   "cell_type": "code",
   "execution_count": null,
   "metadata": {},
   "outputs": [],
   "source": [
    "nx.number_strongly_connected_components(G)"
   ]
  },
  {
   "cell_type": "code",
   "execution_count": null,
   "metadata": {},
   "outputs": [],
   "source": [
    "nx.is_weakly_connected(G)"
   ]
  },
  {
   "cell_type": "code",
   "execution_count": null,
   "metadata": {},
   "outputs": [],
   "source": [
    "nx.number_weakly_connected_components(G)"
   ]
  },
  {
   "cell_type": "code",
   "execution_count": null,
   "metadata": {},
   "outputs": [],
   "source": [
    "[len(Gc) for Gc in sorted(nx.strongly_connected_component_subgraphs(G), key=len, reverse=True)]"
   ]
  },
  {
   "cell_type": "code",
   "execution_count": null,
   "metadata": {},
   "outputs": [],
   "source": [
    "Gc = max(nx.strongly_connected_component_subgraphs(G), key=len)"
   ]
  },
  {
   "cell_type": "code",
   "execution_count": null,
   "metadata": {},
   "outputs": [],
   "source": [
    "Gc.number_of_nodes(),Gc.number_of_edges()"
   ]
  },
  {
   "cell_type": "code",
   "execution_count": null,
   "metadata": {},
   "outputs": [],
   "source": [
    "[len(c) for c in sorted(nx.weakly_connected_component_subgraphs(G),key=len, reverse=True)]"
   ]
  },
  {
   "cell_type": "code",
   "execution_count": null,
   "metadata": {},
   "outputs": [],
   "source": [
    "Gcw = max(nx.weakly_connected_component_subgraphs(G), key=len)\n",
    "Gcw.number_of_nodes(),Gcw.number_of_edges()"
   ]
  },
  {
   "cell_type": "markdown",
   "metadata": {},
   "source": [
    "### Degree Distribution"
   ]
  },
  {
   "cell_type": "markdown",
   "metadata": {},
   "source": [
    "<img src=\"log.png\" alt=\"log scale\" title=\"Log Explained\" />"
   ]
  },
  {
   "cell_type": "code",
   "execution_count": null,
   "metadata": {},
   "outputs": [],
   "source": [
    "def degree_histogram_directed(G, in_degree=False, out_degree=False):\n",
    "    \n",
    "    \"\"\"Return a list of the frequency of each degree value.\n",
    "\n",
    "    Parameters\n",
    "    ----------\n",
    "    G : Networkx graph\n",
    "    in_degree : bool\n",
    "    out_degree : bool\n",
    "\n",
    "    Returns\n",
    "    -------\n",
    "    hist : list \n",
    "        A list of frequencies of degrees.\n",
    "        The degree values are the index in the list.\n",
    "\n",
    "    \"\"\"\n",
    "    nodes = G.nodes()\n",
    "    if in_degree:\n",
    "        in_degree = dict(G.in_degree())\n",
    "        degseq=[in_degree.get(k,0) for k in nodes]\n",
    "        \n",
    "    elif out_degree:\n",
    "        out_degree = dict(G.out_degree())\n",
    "        degseq=[out_degree.get(k,0) for k in nodes]\n",
    "        \n",
    "    else:\n",
    "        degseq=[v for k, v in G.degree()]\n",
    "        \n",
    "    dmax=max(degseq)+1\n",
    "    freq= [ 0 for d in range(dmax) ]\n",
    "    for d in degseq:\n",
    "        freq[d] += 1\n",
    "    return freq"
   ]
  },
  {
   "cell_type": "code",
   "execution_count": null,
   "metadata": {},
   "outputs": [],
   "source": [
    "in_degree_freq = degree_histogram_directed(G, in_degree=True)\n",
    "out_degree_freq = degree_histogram_directed(G, out_degree=True)\n",
    "degrees = range(len(in_degree_freq))\n",
    "plt.figure(figsize=(12, 8)) \n",
    "plt.loglog(range(len(in_degree_freq)), in_degree_freq, 'go-', label='in-degree') \n",
    "plt.loglog(range(len(out_degree_freq)), out_degree_freq, 'bo-', label='out-degree')\n",
    "plt.xlabel('Degree')\n",
    "plt.ylabel('Frequency')"
   ]
  },
  {
   "cell_type": "code",
   "execution_count": null,
   "metadata": {},
   "outputs": [],
   "source": [
    "plt.figure(figsize=(12, 8)) \n",
    "plt.loglog(range(len(in_degree_freq)), in_degree_freq, 'gD-.', label='in-degree') \n",
    "plt.loglog(range(len(out_degree_freq)), out_degree_freq, 'ro--', label='out-degree')\n",
    "plt.xlabel('Degree')\n",
    "plt.ylabel('Frequency')"
   ]
  },
  {
   "cell_type": "markdown",
   "metadata": {},
   "source": [
    "See more plotting options in this link.\n",
    "https://matplotlib.org/stable/api/_as_gen/matplotlib.pyplot.plot.html"
   ]
  },
  {
   "cell_type": "markdown",
   "metadata": {},
   "source": [
    "### Converting the graph to an undirected "
   ]
  },
  {
   "cell_type": "code",
   "execution_count": null,
   "metadata": {},
   "outputs": [],
   "source": [
    "# Now, we will convert the graph to an undirected network and extract the giant connected component\n",
    "# then we will compute node centrality measures.\n",
    "\n",
    "UG = G.to_undirected()\n",
    "\n",
    "UG_componenets = (UG.subgraph(c) for c in nx.connected_components(UG))\n",
    "UG_gc = list(UG_componenets)[0]"
   ]
  },
  {
   "cell_type": "code",
   "execution_count": null,
   "metadata": {},
   "outputs": [],
   "source": [
    "num_nodes = UG_gc.order()\n",
    "num_nodes"
   ]
  },
  {
   "cell_type": "markdown",
   "metadata": {},
   "source": [
    "### Sampling Revisited"
   ]
  },
  {
   "cell_type": "code",
   "execution_count": null,
   "metadata": {},
   "outputs": [],
   "source": [
    "# let's see how hte nodes are represented in Bitcoin dataset\n",
    "sorted(UG_gc)[:10]"
   ]
  },
  {
   "cell_type": "markdown",
   "metadata": {},
   "source": [
    "Note that they are consecutive integers however they don't start with zero. So we have to relabel them."
   ]
  },
  {
   "cell_type": "code",
   "execution_count": null,
   "metadata": {},
   "outputs": [],
   "source": [
    "mapping = dict(zip(UG_gc, range(0, num_nodes)))\n",
    "UG_gc = nx.relabel_nodes(UG_gc, mapping)\n",
    "sorted(UG_gc)[:10]"
   ]
  },
  {
   "cell_type": "code",
   "execution_count": null,
   "metadata": {},
   "outputs": [],
   "source": [
    "from littleballoffur import ForestFireSampler\n",
    "sampler = ForestFireSampler(number_of_nodes=500)\n",
    "\n",
    "new_sample = sampler.sample(UG_gc)"
   ]
  },
  {
   "cell_type": "code",
   "execution_count": null,
   "metadata": {},
   "outputs": [],
   "source": [
    "n,e = new_sample.order(), new_sample.size()\n",
    "ave_degree = float(e)/n\n",
    "trans = nx.transitivity(new_sample)\n",
    "print (\"Nodes: \", n)\n",
    "print (\"Edges: \", e)\n",
    "print (\"Average degree: \", ave_degree)\n",
    "print (\"Transitivity: \", trans)"
   ]
  },
  {
   "cell_type": "code",
   "execution_count": null,
   "metadata": {},
   "outputs": [],
   "source": [
    "degree_freq = degree_histogram_directed(new_sample)\n",
    "degrees = range(len(degree_freq))\n",
    "plt.figure(figsize=(12, 8)) \n",
    "plt.loglog(degrees, degree_freq, 'go-', label='degree') \n",
    "plt.xlabel('Degree')\n",
    "plt.ylabel('Frequency')"
   ]
  },
  {
   "cell_type": "markdown",
   "metadata": {},
   "source": [
    "# Your Turn"
   ]
  },
  {
   "cell_type": "code",
   "execution_count": null,
   "metadata": {},
   "outputs": [],
   "source": [
    "# 1. Using G_directed graph created above, find the nuber of nodes and edges in this graph. to answer \n"
   ]
  },
  {
   "cell_type": "code",
   "execution_count": null,
   "metadata": {},
   "outputs": [],
   "source": [
    "# 2. Check whether the graph is strongly/weakly connected. (2 statements)\n"
   ]
  },
  {
   "cell_type": "code",
   "execution_count": null,
   "metadata": {},
   "outputs": [],
   "source": [
    "# 3. Find in-degree, out-degree of all nodes.\n"
   ]
  },
  {
   "cell_type": "code",
   "execution_count": null,
   "metadata": {},
   "outputs": [],
   "source": [
    "# 4. Find the number of strongly connected components in G_directed.\n"
   ]
  },
  {
   "cell_type": "code",
   "execution_count": null,
   "metadata": {},
   "outputs": [],
   "source": [
    "# 5. Find the number of weakly connected components in G_directed.\n"
   ]
  },
  {
   "cell_type": "markdown",
   "metadata": {},
   "source": [
    "6. Explain in your own words what is a degree distribution?"
   ]
  },
  {
   "cell_type": "markdown",
   "metadata": {},
   "source": [
    "7. Explain in your own words what is a log scale and why do we use it?"
   ]
  },
  {
   "cell_type": "markdown",
   "metadata": {},
   "source": [
    "8. Can you give another real-life example of trust distrust network?"
   ]
  },
  {
   "cell_type": "markdown",
   "metadata": {},
   "source": [
    "9. Why did we find the degree distribution and the transititvity of the sampled graph?\n"
   ]
  },
  {
   "cell_type": "markdown",
   "metadata": {},
   "source": [
    "10. Given the bitcoin dataset above think of one interesting information you can obtain from this dataset."
   ]
  },
  {
   "cell_type": "markdown",
   "metadata": {},
   "source": [
    "**Bonus question:**\n",
    "Can you come up with an algorithm that uses the Littlebaloffur library to sample a directed graph? Just write the psudo code (plain English steps)."
   ]
  },
  {
   "cell_type": "code",
   "execution_count": null,
   "metadata": {},
   "outputs": [],
   "source": []
  }
 ],
 "metadata": {
  "kernelspec": {
   "display_name": "Python 3",
   "language": "python",
   "name": "python3"
  },
  "language_info": {
   "codemirror_mode": {
    "name": "ipython",
    "version": 3
   },
   "file_extension": ".py",
   "mimetype": "text/x-python",
   "name": "python",
   "nbconvert_exporter": "python",
   "pygments_lexer": "ipython3",
   "version": "3.7.4"
  }
 },
 "nbformat": 4,
 "nbformat_minor": 2
}
